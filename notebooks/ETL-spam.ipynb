{
 "cells": [
  {
   "cell_type": "code",
   "execution_count": 1,
   "id": "44145a99",
   "metadata": {
    "ExecuteTime": {
     "end_time": "2023-06-03T22:59:43.147221Z",
     "start_time": "2023-06-03T22:59:41.926605Z"
    }
   },
   "outputs": [],
   "source": [
    "# Importando bibliotecas\n",
    "\n",
    "import os\n",
    "import pandas as pd\n",
    "import numpy as np\n",
    "import seaborn as sns\n",
    "import matplotlib.pyplot as plt\n",
    "from bs4 import BeautifulSoup\n",
    "import urlextract"
   ]
  },
  {
   "cell_type": "markdown",
   "id": "1347986d",
   "metadata": {},
   "source": [
    "# Extraction"
   ]
  },
  {
   "cell_type": "code",
   "execution_count": 2,
   "id": "b46e2ead",
   "metadata": {
    "ExecuteTime": {
     "end_time": "2023-06-03T22:59:43.157138Z",
     "start_time": "2023-06-03T22:59:43.150600Z"
    }
   },
   "outputs": [],
   "source": [
    "# Baixando dados\n",
    "\n"
   ]
  },
  {
   "cell_type": "code",
   "execution_count": 3,
   "id": "bdb3d431",
   "metadata": {
    "ExecuteTime": {
     "end_time": "2023-06-03T22:59:43.169451Z",
     "start_time": "2023-06-03T22:59:43.161801Z"
    }
   },
   "outputs": [],
   "source": [
    "# Descomprimindo\n",
    "\n"
   ]
  },
  {
   "cell_type": "code",
   "execution_count": 4,
   "id": "c4b389ff",
   "metadata": {
    "ExecuteTime": {
     "end_time": "2023-06-03T22:59:43.181755Z",
     "start_time": "2023-06-03T22:59:43.172936Z"
    }
   },
   "outputs": [],
   "source": [
    "# Criando lista de nomes dos emails\n",
    "\n",
    "\n",
    "ham_dir = '../raw_data/easy_ham/'\n",
    "spam_dir = '../raw_data/spam/'\n",
    "\n",
    "ham_email_names = []\n",
    "spam_email_names = []\n",
    "\n",
    "for email_name in sorted(os.listdir(ham_dir)):\n",
    "    ham_email_names.append(email_name)\n",
    "    \n",
    "for email_name in sorted(os.listdir(spam_dir)):\n",
    "    spam_email_names.append(email_name)"
   ]
  },
  {
   "cell_type": "code",
   "execution_count": 5,
   "id": "2d0b3db4",
   "metadata": {
    "ExecuteTime": {
     "end_time": "2023-06-03T22:59:43.199956Z",
     "start_time": "2023-06-03T22:59:43.184015Z"
    }
   },
   "outputs": [
    {
     "data": {
      "text/plain": [
       "(2500, 500)"
      ]
     },
     "execution_count": 5,
     "metadata": {},
     "output_type": "execute_result"
    }
   ],
   "source": [
    "# Checando tamanho das instâncias de spam e ham\n",
    "\n",
    "len(ham_email_names), len(spam_email_names)"
   ]
  },
  {
   "cell_type": "code",
   "execution_count": 6,
   "id": "8fae3d6c",
   "metadata": {
    "ExecuteTime": {
     "end_time": "2023-06-03T22:59:45.466441Z",
     "start_time": "2023-06-03T22:59:43.202563Z"
    },
    "scrolled": true
   },
   "outputs": [],
   "source": [
    "# Carregando hams como messages\n",
    "\n",
    "import email\n",
    "import email.policy\n",
    "\n",
    "email_policy = email.policy.default\n",
    "parser = email.parser.BytesParser(policy=email_policy)\n",
    "\n",
    "ham_emails_messages = []\n",
    "\n",
    "for i in range(len(ham_email_names)):\n",
    "    with open(ham_dir + ham_email_names[i], 'rb') as f: # rb serve para ler como bytes, sem decodificar\n",
    "        email_file = parser.parse(f)\n",
    "    ham_emails_messages.append(email_file) # strip remove espaços iniciais e finais\n",
    "    \n",
    "# Carregando spams como messages\n",
    "\n",
    "spam_emails_messages = []\n",
    "\n",
    "for i in range(len(spam_email_names)):\n",
    "    with open(spam_dir + spam_email_names[i], 'rb') as f:\n",
    "        email_file = parser.parse(f)\n",
    "    spam_emails_messages.append(email_file)"
   ]
  },
  {
   "cell_type": "markdown",
   "id": "4d94dda1",
   "metadata": {},
   "source": [
    "# Transform"
   ]
  },
  {
   "cell_type": "markdown",
   "id": "cb27bd88",
   "metadata": {},
   "source": [
    "### Explorando partes do emails"
   ]
  },
  {
   "cell_type": "code",
   "execution_count": 7,
   "id": "25492fc1",
   "metadata": {
    "ExecuteTime": {
     "end_time": "2023-06-03T22:59:45.483159Z",
     "start_time": "2023-06-03T22:59:45.470258Z"
    },
    "scrolled": true
   },
   "outputs": [
    {
     "name": "stdout",
     "output_type": "stream",
     "text": [
      "multipart(text/plain, application/pgp-signature)\n",
      "text/plain\n"
     ]
    }
   ],
   "source": [
    "# Como algumas mensagens são multipart, temos que fazer uma função para parsear\n",
    "\n",
    "def get_email_structure(email):\n",
    "    if isinstance(email, str): # Checando se já temos um email como texto\n",
    "        return email\n",
    "    \n",
    "    payload = email.get_payload()\n",
    "    \n",
    "    if isinstance(payload, list):\n",
    "        x = \", \".join([get_email_structure(sub_email) for sub_email in payload]) # Iterando sob as partes\n",
    "        return f'multipart({x})'\n",
    "    else:\n",
    "        return email.get_content_type()\n",
    "    \n",
    "    \n",
    "print(get_email_structure(ham_emails_messages[13])) # Testando em um email multipart\n",
    "print(get_email_structure(ham_emails_messages[0])) # Testando em um email comum"
   ]
  },
  {
   "cell_type": "markdown",
   "id": "c1285eea",
   "metadata": {
    "ExecuteTime": {
     "end_time": "2023-05-15T15:02:26.657464Z",
     "start_time": "2023-05-15T15:02:26.650911Z"
    }
   },
   "source": [
    "## Explorando headers"
   ]
  },
  {
   "cell_type": "code",
   "execution_count": 9,
   "id": "46f55adb",
   "metadata": {
    "ExecuteTime": {
     "end_time": "2023-06-03T22:59:46.462760Z",
     "start_time": "2023-06-03T22:59:46.441714Z"
    }
   },
   "outputs": [
    {
     "name": "stdout",
     "output_type": "stream",
     "text": [
      "Return-Path <ilug-admin@linux.ie>\n",
      "Delivered-To zzzz@localhost.spamassassin.taint.org\n",
      "Received from localhost (localhost [127.0.0.1])\tby phobos.labs.spamassassin.taint.org (Postfix) with ESMTP id A7FD7454F6\tfor <zzzz@localhost>; Thu, 22 Aug 2002 08:27:38 -0400 (EDT)\n",
      "Received from phobos [127.0.0.1]\tby localhost with IMAP (fetchmail-5.9.0)\tfor zzzz@localhost (single-drop); Thu, 22 Aug 2002 13:27:38 +0100 (IST)\n",
      "Received from lugh.tuatha.org (root@lugh.tuatha.org [194.125.145.45]) by    dogma.slashnull.org (8.11.6/8.11.6) with ESMTP id g7MCJiZ06043 for    <zzzz-ilug@jmason.org>; Thu, 22 Aug 2002 13:19:44 +0100\n",
      "Received from lugh (root@localhost [127.0.0.1]) by lugh.tuatha.org    (8.9.3/8.9.3) with ESMTP id NAA29323; Thu, 22 Aug 2002 13:18:52 +0100\n",
      "Received from email.qves.com ([67.104.83.251]) by lugh.tuatha.org    (8.9.3/8.9.3) with ESMTP id NAA29282 for <ilug@linux.ie>; Thu,    22 Aug 2002 13:18:37 +0100\n",
      "X-Authentication-Warning lugh.tuatha.org: Host [67.104.83.251] claimed to    be email.qves.com\n",
      "Received from qvp0091 ([169.254.6.22]) by email.qves.com with Microsoft    SMTPSVC(5.0.2195.2966); Thu, 22 Aug 2002 06:18:18 -0600\n",
      "From Slim Down <taylor@s3.serveimage.com>\n",
      "To ilug@linux.ie\n",
      "Date Thu, 22 Aug 2002 06:18:18 -0600\n",
      "Message-Id <59e6301c249d5$ffb7ea20$1606fea9@freeyankeedom.com>\n",
      "MIME-Version 1.0\n",
      "Content-Type text/plain; charset=\"iso-8859-1\"\n",
      "Content-Transfer-Encoding 7bit\n",
      "X-Mailer Microsoft CDO for Windows 2000\n",
      "Thread-Index AcJJ1f+3FWdz11AmR6uWbmQN5gGxxw==\n",
      "Content-Class urn:content-classes:message\n",
      "X-Mimeole Produced By Microsoft MimeOLE V6.00.2462.0000\n",
      "X-Originalarrivaltime 22 Aug 2002 12:18:18.0699 (UTC) FILETIME=[FFB949B0:01C249D5]\n",
      "Subject [ILUG] Guaranteed to lose 10-12 lbs in 30 days 10.206\n",
      "Sender ilug-admin@linux.ie\n",
      "Errors-To ilug-admin@linux.ie\n",
      "X-Mailman-Version 1.1\n",
      "Precedence bulk\n",
      "List-Id Irish Linux Users' Group <ilug.linux.ie>\n",
      "X-Beenthere ilug@linux.ie\n"
     ]
    }
   ],
   "source": [
    "for header, value in spam_emails_messages[1].items():\n",
    "    print(header, value)"
   ]
  },
  {
   "cell_type": "code",
   "execution_count": 10,
   "id": "9b2886ff",
   "metadata": {
    "ExecuteTime": {
     "end_time": "2023-06-03T22:59:46.476145Z",
     "start_time": "2023-06-03T22:59:46.465893Z"
    }
   },
   "outputs": [
    {
     "data": {
      "text/plain": [
       "'[ILUG] Guaranteed to lose 10-12 lbs in 30 days 10.206'"
      ]
     },
     "execution_count": 10,
     "metadata": {},
     "output_type": "execute_result"
    }
   ],
   "source": [
    "spam_emails_messages[1]['Subject']"
   ]
  },
  {
   "cell_type": "markdown",
   "id": "5d11798c",
   "metadata": {},
   "source": [
    "### Beatiful Soup"
   ]
  },
  {
   "cell_type": "code",
   "execution_count": 11,
   "id": "53da11b4",
   "metadata": {
    "ExecuteTime": {
     "end_time": "2023-06-03T22:59:46.490739Z",
     "start_time": "2023-06-03T22:59:46.479281Z"
    }
   },
   "outputs": [],
   "source": [
    "def email_to_text(email):\n",
    "    html = None\n",
    "    for part in email.walk():\n",
    "        content_type = part.get_content_type()\n",
    "        if not content_type in (\"text/plain\", \"text/html\"): # Filtra todos que não são text ou html\n",
    "            continue\n",
    "        \n",
    "        # Tente pegar os conteudos, se falhar por decode, pegue o payload e converta\n",
    "        try:\n",
    "            content = part.get_content()\n",
    "        except:\n",
    "            content = str(part.get_payload())\n",
    "        \n",
    "        if content_type == 'text/plain':\n",
    "            return content\n",
    "        else:\n",
    "            html = content\n",
    "    \n",
    "    if html:\n",
    "        return BeautifulSoup(html).get_text() "
   ]
  },
  {
   "cell_type": "code",
   "execution_count": 12,
   "id": "520cac9d",
   "metadata": {
    "ExecuteTime": {
     "end_time": "2023-06-03T22:59:46.504769Z",
     "start_time": "2023-06-03T22:59:46.493065Z"
    }
   },
   "outputs": [
    {
     "data": {
      "text/plain": [
       "\"1) Fight The Risk of Cancer!\\nhttp://www.adclick.ws/p.cfm?o=315&s=pk007\\n\\n2) Slim Down - Guaranteed to lose 10-12 lbs in 30 days\\nhttp://www.adclick.ws/p.cfm?o=249&s=pk007\\n\\n3) Get the Child Support You Deserve - Free Legal Advice\\nhttp://www.adclick.ws/p.cfm?o=245&s=pk002\\n\\n4) Join the Web's Fastest Growing Singles Community\\nhttp://www.adclick.ws/p.cfm?o=259&s=pk007\\n\\n5) Start Your Private Photo Album Online!\\nhttp://www.adclick.ws/p.cfm?o=283&s=pk007\\n\\nHave a Wonderful Day,\\nOffer Manager\\nPrizeMama\\n\\n\\n\\n\\n\\n\\n\\n\\n\\n\\n\\n\\n\\nIf you wish to leave this list please use the link below.\\nhttp://www.qves.com/trim/?ilug@linux.ie%7C17%7C114258\\n\\n\\n-- \\nIrish Linux Users' Group: ilug@linux.ie\\nhttp://www.linux.ie/mailman/listinfo/ilug for (un)subscription information.\\nList maintainer: listmaster@linux.ie\""
      ]
     },
     "execution_count": 12,
     "metadata": {},
     "output_type": "execute_result"
    }
   ],
   "source": [
    "email_to_text(spam_emails_messages[1]).strip()"
   ]
  },
  {
   "cell_type": "markdown",
   "id": "659f7947",
   "metadata": {},
   "source": [
    "## Removendo URLs"
   ]
  },
  {
   "cell_type": "code",
   "execution_count": 13,
   "id": "4082ad15",
   "metadata": {
    "ExecuteTime": {
     "end_time": "2023-06-03T22:59:46.511180Z",
     "start_time": "2023-06-03T22:59:46.507225Z"
    }
   },
   "outputs": [],
   "source": [
    "def remove_url(email):\n",
    "    url_extractor = urlextract.URLExtract()\n",
    "    url_list = url_extractor.find_urls(str(email))\n",
    "\n",
    "    for link in url_list:\n",
    "        email = email.replace(link, 'URL')\n",
    "    \n",
    "    return email"
   ]
  },
  {
   "cell_type": "markdown",
   "id": "de153bb5",
   "metadata": {},
   "source": [
    "# Load"
   ]
  },
  {
   "cell_type": "code",
   "execution_count": 21,
   "id": "be5e25f0",
   "metadata": {
    "ExecuteTime": {
     "end_time": "2023-06-03T23:10:01.774712Z",
     "start_time": "2023-06-03T23:08:13.476627Z"
    },
    "scrolled": true
   },
   "outputs": [],
   "source": [
    "spam_list = []\n",
    "ham_list = []\n",
    "\n",
    "for i in range(len(spam_email_names)):\n",
    "    email_text = remove_url(email_to_text(spam_emails_messages[i]))\n",
    "    email_structure = get_email_structure(spam_emails_messages[i])\n",
    "    spam_list.append([spam_email_names[i], email_text, email_structure, 'spam'])\n",
    "    \n",
    "    \n",
    "for i in range(len(ham_email_names)):\n",
    "    email_text = remove_url(email_to_text(ham_emails_messages[i]))\n",
    "    email_structure = get_email_structure(ham_emails_messages[i])\n",
    "    ham_list.append([ham_email_names[i], email_text, email_structure, 'ham'])\n",
    "    \n",
    "col_names = ['id', 'email_content', 'email_structure', 'email_type']\n",
    "df_spam = pd.DataFrame(spam_list, columns=col_names)\n",
    "df_ham = pd.DataFrame(ham_list, columns=col_names)"
   ]
  },
  {
   "cell_type": "code",
   "execution_count": 22,
   "id": "c4bb894d",
   "metadata": {
    "ExecuteTime": {
     "end_time": "2023-06-03T23:10:06.106123Z",
     "start_time": "2023-06-03T23:10:06.100141Z"
    }
   },
   "outputs": [],
   "source": [
    "df = pd.concat([df_spam, df_ham])"
   ]
  },
  {
   "cell_type": "code",
   "execution_count": 23,
   "id": "4b9c71a9",
   "metadata": {
    "ExecuteTime": {
     "end_time": "2023-06-03T23:10:06.651311Z",
     "start_time": "2023-06-03T23:10:06.539676Z"
    }
   },
   "outputs": [],
   "source": [
    "df.to_csv('../data/treated_data/data.csv', index=False)"
   ]
  }
 ],
 "metadata": {
  "kernelspec": {
   "display_name": "Python 3",
   "language": "python",
   "name": "python3"
  },
  "language_info": {
   "codemirror_mode": {
    "name": "ipython",
    "version": 3
   },
   "file_extension": ".py",
   "mimetype": "text/x-python",
   "name": "python",
   "nbconvert_exporter": "python",
   "pygments_lexer": "ipython3",
   "version": "3.8.10"
  },
  "varInspector": {
   "cols": {
    "lenName": 16,
    "lenType": 16,
    "lenVar": 40
   },
   "kernels_config": {
    "python": {
     "delete_cmd_postfix": "",
     "delete_cmd_prefix": "del ",
     "library": "var_list.py",
     "varRefreshCmd": "print(var_dic_list())"
    },
    "r": {
     "delete_cmd_postfix": ") ",
     "delete_cmd_prefix": "rm(",
     "library": "var_list.r",
     "varRefreshCmd": "cat(var_dic_list()) "
    }
   },
   "types_to_exclude": [
    "module",
    "function",
    "builtin_function_or_method",
    "instance",
    "_Feature"
   ],
   "window_display": false
  }
 },
 "nbformat": 4,
 "nbformat_minor": 5
}
