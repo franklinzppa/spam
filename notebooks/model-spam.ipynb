{
 "cells": [
  {
   "cell_type": "code",
   "execution_count": 172,
   "id": "7ecd7aa5",
   "metadata": {
    "ExecuteTime": {
     "end_time": "2023-06-03T15:19:23.226592Z",
     "start_time": "2023-06-03T15:19:23.221452Z"
    }
   },
   "outputs": [],
   "source": [
    "import pandas as pd\n",
    "import seaborn as sns\n",
    "import matplotlib.pyplot as plt\n",
    "from sklearn.model_selection import train_test_split\n",
    "from sklearn.feature_extraction.text import TfidfVectorizer\n",
    "from sklearn.ensemble import RandomForestClassifier\n",
    "from sklearn.metrics import classification_report"
   ]
  },
  {
   "cell_type": "code",
   "execution_count": 173,
   "id": "6fe8c736",
   "metadata": {
    "ExecuteTime": {
     "end_time": "2023-06-03T15:19:23.480155Z",
     "start_time": "2023-06-03T15:19:23.412645Z"
    }
   },
   "outputs": [
    {
     "data": {
      "text/html": [
       "<div>\n",
       "<style scoped>\n",
       "    .dataframe tbody tr th:only-of-type {\n",
       "        vertical-align: middle;\n",
       "    }\n",
       "\n",
       "    .dataframe tbody tr th {\n",
       "        vertical-align: top;\n",
       "    }\n",
       "\n",
       "    .dataframe thead th {\n",
       "        text-align: right;\n",
       "    }\n",
       "</style>\n",
       "<table border=\"1\" class=\"dataframe\">\n",
       "  <thead>\n",
       "    <tr style=\"text-align: right;\">\n",
       "      <th></th>\n",
       "      <th>id</th>\n",
       "      <th>email_content</th>\n",
       "      <th>email_type</th>\n",
       "    </tr>\n",
       "  </thead>\n",
       "  <tbody>\n",
       "    <tr>\n",
       "      <th>0</th>\n",
       "      <td>00001.7848dde101aa985090474a91ec93fcf0</td>\n",
       "      <td>\\n\\n\\n\\n\\n\\n\\n\\n\\n\\n\\n\\n\\n\\nSave up to 70% on ...</td>\n",
       "      <td>spam</td>\n",
       "    </tr>\n",
       "    <tr>\n",
       "      <th>1</th>\n",
       "      <td>00002.d94f1b97e48ed3b553b3508d116e6a09</td>\n",
       "      <td>1) Fight The Risk of Cancer!\\nURL\\n\\n2) Slim D...</td>\n",
       "      <td>spam</td>\n",
       "    </tr>\n",
       "    <tr>\n",
       "      <th>2</th>\n",
       "      <td>00003.2ee33bc6eacdb11f38d052c44819ba6c</td>\n",
       "      <td>1) Fight The Risk of Cancer!\\nURL\\n\\n2) Slim D...</td>\n",
       "      <td>spam</td>\n",
       "    </tr>\n",
       "    <tr>\n",
       "      <th>3</th>\n",
       "      <td>00004.eac8de8d759b7e74154f142194282724</td>\n",
       "      <td>##############################################...</td>\n",
       "      <td>spam</td>\n",
       "    </tr>\n",
       "    <tr>\n",
       "      <th>4</th>\n",
       "      <td>00005.57696a39d7d84318ce497886896bf90d</td>\n",
       "      <td>I thought you might like these:\\n1) Slim Down ...</td>\n",
       "      <td>spam</td>\n",
       "    </tr>\n",
       "  </tbody>\n",
       "</table>\n",
       "</div>"
      ],
      "text/plain": [
       "                                       id  \\\n",
       "0  00001.7848dde101aa985090474a91ec93fcf0   \n",
       "1  00002.d94f1b97e48ed3b553b3508d116e6a09   \n",
       "2  00003.2ee33bc6eacdb11f38d052c44819ba6c   \n",
       "3  00004.eac8de8d759b7e74154f142194282724   \n",
       "4  00005.57696a39d7d84318ce497886896bf90d   \n",
       "\n",
       "                                       email_content email_type  \n",
       "0  \\n\\n\\n\\n\\n\\n\\n\\n\\n\\n\\n\\n\\n\\nSave up to 70% on ...       spam  \n",
       "1  1) Fight The Risk of Cancer!\\nURL\\n\\n2) Slim D...       spam  \n",
       "2  1) Fight The Risk of Cancer!\\nURL\\n\\n2) Slim D...       spam  \n",
       "3  ##############################################...       spam  \n",
       "4  I thought you might like these:\\n1) Slim Down ...       spam  "
      ]
     },
     "execution_count": 173,
     "metadata": {},
     "output_type": "execute_result"
    }
   ],
   "source": [
    "df = pd.read_csv('../data/treated_data/data.csv')\n",
    "df.head()"
   ]
  },
  {
   "cell_type": "code",
   "execution_count": 174,
   "id": "5046af03",
   "metadata": {
    "ExecuteTime": {
     "end_time": "2023-06-03T15:19:23.596949Z",
     "start_time": "2023-06-03T15:19:23.581686Z"
    }
   },
   "outputs": [
    {
     "name": "stdout",
     "output_type": "stream",
     "text": [
      "<class 'pandas.core.frame.DataFrame'>\n",
      "RangeIndex: 3000 entries, 0 to 2999\n",
      "Data columns (total 3 columns):\n",
      " #   Column         Non-Null Count  Dtype \n",
      "---  ------         --------------  ----- \n",
      " 0   id             3000 non-null   object\n",
      " 1   email_content  2999 non-null   object\n",
      " 2   email_type     3000 non-null   object\n",
      "dtypes: object(3)\n",
      "memory usage: 70.4+ KB\n"
     ]
    }
   ],
   "source": [
    "df.info()"
   ]
  },
  {
   "cell_type": "code",
   "execution_count": 175,
   "id": "f16f7f71",
   "metadata": {
    "ExecuteTime": {
     "end_time": "2023-06-03T15:19:23.760821Z",
     "start_time": "2023-06-03T15:19:23.749789Z"
    }
   },
   "outputs": [
    {
     "name": "stdout",
     "output_type": "stream",
     "text": [
      "id               0\n",
      "email_content    1\n",
      "email_type       0\n",
      "dtype: int64\n"
     ]
    }
   ],
   "source": [
    "# Checando e dropando NaN \n",
    "\n",
    "print(df.isna().sum())\n",
    "df_tr1 = df.dropna()"
   ]
  },
  {
   "cell_type": "code",
   "execution_count": 176,
   "id": "c3521d3c",
   "metadata": {
    "ExecuteTime": {
     "end_time": "2023-06-03T15:19:24.062054Z",
     "start_time": "2023-06-03T15:19:24.047576Z"
    }
   },
   "outputs": [
    {
     "name": "stdout",
     "output_type": "stream",
     "text": [
      "Duplicated emails: 90\n"
     ]
    }
   ],
   "source": [
    "# Checando emails duplicados e removendo emails duplicados\n",
    "\n",
    "print(f\"Duplicated emails: {df_tr1['email_content'].duplicated().sum()}\")\n",
    "df_tr2 = df_tr1[~df_tr1['email_content'].duplicated()]"
   ]
  },
  {
   "cell_type": "markdown",
   "id": "e52089b1",
   "metadata": {},
   "source": [
    "# Pré-processamento"
   ]
  },
  {
   "cell_type": "code",
   "execution_count": 177,
   "id": "f335329b",
   "metadata": {
    "ExecuteTime": {
     "end_time": "2023-06-03T15:19:24.719487Z",
     "start_time": "2023-06-03T15:19:24.716324Z"
    }
   },
   "outputs": [],
   "source": [
    "# Remover pontuação, /n, stop_words, fazer steeming, "
   ]
  },
  {
   "cell_type": "code",
   "execution_count": 178,
   "id": "6b8b4db9",
   "metadata": {
    "ExecuteTime": {
     "end_time": "2023-06-03T15:19:25.181283Z",
     "start_time": "2023-06-03T15:19:25.167865Z"
    }
   },
   "outputs": [],
   "source": [
    "# Lowercase\n",
    "\n",
    "email_content = df_tr2['email_content']\n",
    "email_content = email_content.apply(lambda x: x.lower())"
   ]
  },
  {
   "cell_type": "code",
   "execution_count": 179,
   "id": "36c1227c",
   "metadata": {
    "ExecuteTime": {
     "end_time": "2023-06-03T15:19:25.694566Z",
     "start_time": "2023-06-03T15:19:25.584187Z"
    }
   },
   "outputs": [],
   "source": [
    "# Remove numbers\n",
    "\n",
    "email_content = email_content.apply(lambda x: re.sub(r'\\d+', '', x))"
   ]
  },
  {
   "cell_type": "code",
   "execution_count": 180,
   "id": "83b0b51c",
   "metadata": {
    "ExecuteTime": {
     "end_time": "2023-06-03T15:19:25.907878Z",
     "start_time": "2023-06-03T15:19:25.880209Z"
    }
   },
   "outputs": [],
   "source": [
    "# Replacing dots with spaces\n",
    "\n",
    "email_content = email_content.apply(lambda x: re.sub(\"[.]\", \" \", x))"
   ]
  },
  {
   "cell_type": "code",
   "execution_count": 181,
   "id": "291166a5",
   "metadata": {
    "ExecuteTime": {
     "end_time": "2023-06-03T15:19:26.209409Z",
     "start_time": "2023-06-03T15:19:26.085831Z"
    }
   },
   "outputs": [],
   "source": [
    "# Removing punkt\n",
    "\n",
    "import string\n",
    "\n",
    "email_content = email_content.apply(lambda x: re.sub('[%s]' % re.escape(string.punctuation), '' , x))"
   ]
  },
  {
   "cell_type": "code",
   "execution_count": 182,
   "id": "dacdf9d9",
   "metadata": {
    "ExecuteTime": {
     "end_time": "2023-06-03T15:19:26.322673Z",
     "start_time": "2023-06-03T15:19:26.307451Z"
    }
   },
   "outputs": [],
   "source": [
    "# Removing \\n\n",
    "\n",
    "email_content = email_content.str.replace('\\n', ' ')"
   ]
  },
  {
   "cell_type": "code",
   "execution_count": 183,
   "id": "a96e4e88",
   "metadata": {
    "ExecuteTime": {
     "end_time": "2023-06-03T15:19:26.652266Z",
     "start_time": "2023-06-03T15:19:26.466853Z"
    }
   },
   "outputs": [],
   "source": [
    "# Removing excessive spacing\n",
    "\n",
    "email_content = email_content.apply(lambda x: re.sub(r'\\s{2,}', ' ', x))"
   ]
  },
  {
   "cell_type": "code",
   "execution_count": 184,
   "id": "035f2679",
   "metadata": {
    "ExecuteTime": {
     "end_time": "2023-06-03T15:19:26.840907Z",
     "start_time": "2023-06-03T15:19:26.830446Z"
    }
   },
   "outputs": [],
   "source": [
    "# Removing trailing spaces\n",
    "\n",
    "email_content = email_content.str.strip()"
   ]
  },
  {
   "cell_type": "code",
   "execution_count": 185,
   "id": "d8fdc9b8",
   "metadata": {
    "ExecuteTime": {
     "end_time": "2023-06-03T15:19:27.375778Z",
     "start_time": "2023-06-03T15:19:27.042623Z"
    },
    "scrolled": true
   },
   "outputs": [],
   "source": [
    "# Removing decoding errors\n",
    "\n",
    "from unidecode import unidecode\n",
    "email_content = email_content.apply(lambda x: unidecode(x, errors=\"preserve\"))"
   ]
  },
  {
   "cell_type": "code",
   "execution_count": 236,
   "id": "9bf0a128",
   "metadata": {
    "ExecuteTime": {
     "end_time": "2023-06-03T16:18:32.664085Z",
     "start_time": "2023-06-03T16:18:32.650802Z"
    },
    "scrolled": true
   },
   "outputs": [
    {
     "name": "stderr",
     "output_type": "stream",
     "text": [
      "<ipython-input-236-6d46d34c3e5e>:1: SettingWithCopyWarning: \n",
      "A value is trying to be set on a copy of a slice from a DataFrame.\n",
      "Try using .loc[row_indexer,col_indexer] = value instead\n",
      "\n",
      "See the caveats in the documentation: https://pandas.pydata.org/pandas-docs/stable/user_guide/indexing.html#returning-a-view-versus-a-copy\n",
      "  df_tr2['email_content'] = email_content\n"
     ]
    },
    {
     "data": {
      "text/html": [
       "<div>\n",
       "<style scoped>\n",
       "    .dataframe tbody tr th:only-of-type {\n",
       "        vertical-align: middle;\n",
       "    }\n",
       "\n",
       "    .dataframe tbody tr th {\n",
       "        vertical-align: top;\n",
       "    }\n",
       "\n",
       "    .dataframe thead th {\n",
       "        text-align: right;\n",
       "    }\n",
       "</style>\n",
       "<table border=\"1\" class=\"dataframe\">\n",
       "  <thead>\n",
       "    <tr style=\"text-align: right;\">\n",
       "      <th></th>\n",
       "      <th>id</th>\n",
       "      <th>email_content</th>\n",
       "      <th>email_type</th>\n",
       "    </tr>\n",
       "  </thead>\n",
       "  <tbody>\n",
       "    <tr>\n",
       "      <th>0</th>\n",
       "      <td>00001.7848dde101aa985090474a91ec93fcf0</td>\n",
       "      <td>save up to on life insurance why spend more th...</td>\n",
       "      <td>spam</td>\n",
       "    </tr>\n",
       "    <tr>\n",
       "      <th>1</th>\n",
       "      <td>00002.d94f1b97e48ed3b553b3508d116e6a09</td>\n",
       "      <td>fight the risk of cancer url slim down guarant...</td>\n",
       "      <td>spam</td>\n",
       "    </tr>\n",
       "    <tr>\n",
       "      <th>2</th>\n",
       "      <td>00003.2ee33bc6eacdb11f38d052c44819ba6c</td>\n",
       "      <td>fight the risk of cancer url slim down guarant...</td>\n",
       "      <td>spam</td>\n",
       "    </tr>\n",
       "    <tr>\n",
       "      <th>3</th>\n",
       "      <td>00004.eac8de8d759b7e74154f142194282724</td>\n",
       "      <td>adult club offers free membership instant acce...</td>\n",
       "      <td>spam</td>\n",
       "    </tr>\n",
       "    <tr>\n",
       "      <th>4</th>\n",
       "      <td>00005.57696a39d7d84318ce497886896bf90d</td>\n",
       "      <td>i thought you might like these slim down guara...</td>\n",
       "      <td>spam</td>\n",
       "    </tr>\n",
       "    <tr>\n",
       "      <th>...</th>\n",
       "      <td>...</td>\n",
       "      <td>...</td>\n",
       "      <td>...</td>\n",
       "    </tr>\n",
       "    <tr>\n",
       "      <th>2995</th>\n",
       "      <td>02496.aae0c81581895acfe65323f344340856</td>\n",
       "      <td>man killed trying to surf on tube train ananov...</td>\n",
       "      <td>ham</td>\n",
       "    </tr>\n",
       "    <tr>\n",
       "      <th>2996</th>\n",
       "      <td>02497.60497db0a06c2132ec2374b2898084d3</td>\n",
       "      <td>hi gianni a very good resource for this is url...</td>\n",
       "      <td>ham</td>\n",
       "    </tr>\n",
       "    <tr>\n",
       "      <th>2997</th>\n",
       "      <td>02498.09835f512f156da210efb99fcc523e21</td>\n",
       "      <td>gianni ponzi wrote i have a prob when trying t...</td>\n",
       "      <td>ham</td>\n",
       "    </tr>\n",
       "    <tr>\n",
       "      <th>2998</th>\n",
       "      <td>02499.b4af165650f138b10f9941f6cc5bce3c</td>\n",
       "      <td>neale pickett nealewoozle org writes skip mont...</td>\n",
       "      <td>ham</td>\n",
       "    </tr>\n",
       "    <tr>\n",
       "      <th>2999</th>\n",
       "      <td>02500.05b3496ce7bca306bed0805425ec8621</td>\n",
       "      <td>hi i think you need to give us a little more d...</td>\n",
       "      <td>ham</td>\n",
       "    </tr>\n",
       "  </tbody>\n",
       "</table>\n",
       "<p>2909 rows × 3 columns</p>\n",
       "</div>"
      ],
      "text/plain": [
       "                                          id  \\\n",
       "0     00001.7848dde101aa985090474a91ec93fcf0   \n",
       "1     00002.d94f1b97e48ed3b553b3508d116e6a09   \n",
       "2     00003.2ee33bc6eacdb11f38d052c44819ba6c   \n",
       "3     00004.eac8de8d759b7e74154f142194282724   \n",
       "4     00005.57696a39d7d84318ce497886896bf90d   \n",
       "...                                      ...   \n",
       "2995  02496.aae0c81581895acfe65323f344340856   \n",
       "2996  02497.60497db0a06c2132ec2374b2898084d3   \n",
       "2997  02498.09835f512f156da210efb99fcc523e21   \n",
       "2998  02499.b4af165650f138b10f9941f6cc5bce3c   \n",
       "2999  02500.05b3496ce7bca306bed0805425ec8621   \n",
       "\n",
       "                                          email_content email_type  \n",
       "0     save up to on life insurance why spend more th...       spam  \n",
       "1     fight the risk of cancer url slim down guarant...       spam  \n",
       "2     fight the risk of cancer url slim down guarant...       spam  \n",
       "3     adult club offers free membership instant acce...       spam  \n",
       "4     i thought you might like these slim down guara...       spam  \n",
       "...                                                 ...        ...  \n",
       "2995  man killed trying to surf on tube train ananov...        ham  \n",
       "2996  hi gianni a very good resource for this is url...        ham  \n",
       "2997  gianni ponzi wrote i have a prob when trying t...        ham  \n",
       "2998  neale pickett nealewoozle org writes skip mont...        ham  \n",
       "2999  hi i think you need to give us a little more d...        ham  \n",
       "\n",
       "[2909 rows x 3 columns]"
      ]
     },
     "execution_count": 236,
     "metadata": {},
     "output_type": "execute_result"
    }
   ],
   "source": [
    "df_tr2['email_content'] = email_content\n",
    "df_tr2"
   ]
  },
  {
   "cell_type": "code",
   "execution_count": 239,
   "id": "0f1766d7",
   "metadata": {
    "ExecuteTime": {
     "end_time": "2023-06-03T16:19:02.876848Z",
     "start_time": "2023-06-03T16:19:02.872774Z"
    }
   },
   "outputs": [
    {
     "data": {
      "text/plain": [
       "'cellular phone accessories all at below wholesale prices url hands free ear buds phone holsters booster antennas only phone cases car chargers face plates as low as lithium ion batteries as low as url click below for accessories on all nokia motorola lg nextel samsung qualcomm ericsson audiovox phones at below wholesale prices url if you need assistance please call us to be removed from future mailings please send your remove request to removemenowbtamail net cn thank you and have a super day'"
      ]
     },
     "execution_count": 239,
     "metadata": {},
     "output_type": "execute_result"
    }
   ],
   "source": [
    "df_tr2['email_content'][10]"
   ]
  },
  {
   "cell_type": "markdown",
   "id": "cd5dcf78",
   "metadata": {},
   "source": [
    "Excelent resource on text-preprocessing\n",
    "\n",
    "https://towardsdatascience.com/elegant-text-pre-processing-with-nltk-in-sklearn-pipeline-d6fe18b91eb8"
   ]
  },
  {
   "cell_type": "markdown",
   "id": "7d00d559",
   "metadata": {},
   "source": [
    "# EDA"
   ]
  },
  {
   "cell_type": "code",
   "execution_count": 19,
   "id": "8c863805",
   "metadata": {
    "ExecuteTime": {
     "end_time": "2023-06-03T13:45:09.369549Z",
     "start_time": "2023-06-03T13:45:09.367084Z"
    }
   },
   "outputs": [],
   "source": [
    "# Sentiment analysis\n",
    "# Email type analysis\n",
    "# Word cloud (talvez precise de um tokenizer)"
   ]
  },
  {
   "cell_type": "code",
   "execution_count": 190,
   "id": "aa405cb9",
   "metadata": {
    "ExecuteTime": {
     "end_time": "2023-06-03T15:21:10.184133Z",
     "start_time": "2023-06-03T15:21:10.173965Z"
    }
   },
   "outputs": [
    {
     "data": {
      "text/plain": [
       "ham     0.845995\n",
       "spam    0.154005\n",
       "Name: email_type, dtype: float64"
      ]
     },
     "execution_count": 190,
     "metadata": {},
     "output_type": "execute_result"
    }
   ],
   "source": [
    "# Verificando proporções dos targets\n",
    "\n",
    "df_tr2['email_type'].value_counts(normalize=True)"
   ]
  },
  {
   "cell_type": "code",
   "execution_count": 24,
   "id": "477624a1",
   "metadata": {
    "ExecuteTime": {
     "end_time": "2023-06-03T13:45:26.912037Z",
     "start_time": "2023-06-03T13:45:26.725191Z"
    },
    "scrolled": true
   },
   "outputs": [
    {
     "data": {
      "image/png": "[encoded data removed]",
      "text/plain": [
       "<Figure size 432x288 with 1 Axes>"
      ]
     },
     "metadata": {
      "needs_background": "light"
     },
     "output_type": "display_data"
    }
   ],
   "source": [
    "ax = sns.countplot(x=df_tr2['email_type'])\n",
    "# count.text(x,y,s)"
   ]
  },
  {
   "cell_type": "code",
   "execution_count": 191,
   "id": "0f8c8c6e",
   "metadata": {
    "ExecuteTime": {
     "end_time": "2023-06-03T15:21:39.654819Z",
     "start_time": "2023-06-03T15:21:19.165838Z"
    }
   },
   "outputs": [],
   "source": [
    "# Sentiment analysis\n",
    "\n",
    "from nltk.sentiment.vader import SentimentIntensityAnalyzer\n",
    "\n",
    "sentiment_analyzer = SentimentIntensityAnalyzer()\n",
    "\n",
    "df_tr3 = df_tr2.copy()\n",
    "df_tr3['negative_sentiment'] = df_tr3['email_content'].apply(lambda x: sentiment_analyzer.polarity_scores(x)['neg'])\n",
    "df_tr3['neutral_sentiment'] = df_tr3['email_content'].apply(lambda x: sentiment_analyzer.polarity_scores(x)['neu'])\n",
    "df_tr3['positive_sentiment'] = df_tr3['email_content'].apply(lambda x: sentiment_analyzer.polarity_scores(x)['pos'])"
   ]
  },
  {
   "cell_type": "code",
   "execution_count": 192,
   "id": "440c9901",
   "metadata": {
    "ExecuteTime": {
     "end_time": "2023-06-03T15:21:40.056106Z",
     "start_time": "2023-06-03T15:21:39.770394Z"
    },
    "scrolled": true
   },
   "outputs": [
    {
     "data": {
      "image/png": "[encoded data removed]",
      "text/plain": [
       "<Figure size 432x288 with 1 Axes>"
      ]
     },
     "metadata": {
      "needs_background": "light"
     },
     "output_type": "display_data"
    }
   ],
   "source": [
    "# Plotting mean sentiment distribution\n",
    "\n",
    "mean_sentiment = df_tr3[['negative_sentiment', \n",
    "                         'neutral_sentiment', \n",
    "                         'positive_sentiment', \n",
    "                         'email_type']].groupby('email_type').mean()\n",
    "\n",
    "mean_sentiment.plot(kind='barh')\n",
    "plt.show()"
   ]
  },
  {
   "cell_type": "code",
   "execution_count": 193,
   "id": "8a948ccd",
   "metadata": {
    "ExecuteTime": {
     "end_time": "2023-06-03T15:21:40.165133Z",
     "start_time": "2023-06-03T15:21:40.156242Z"
    },
    "scrolled": true
   },
   "outputs": [
    {
     "data": {
      "text/html": [
       "<div>\n",
       "<style scoped>\n",
       "    .dataframe tbody tr th:only-of-type {\n",
       "        vertical-align: middle;\n",
       "    }\n",
       "\n",
       "    .dataframe tbody tr th {\n",
       "        vertical-align: top;\n",
       "    }\n",
       "\n",
       "    .dataframe thead th {\n",
       "        text-align: right;\n",
       "    }\n",
       "</style>\n",
       "<table border=\"1\" class=\"dataframe\">\n",
       "  <thead>\n",
       "    <tr style=\"text-align: right;\">\n",
       "      <th></th>\n",
       "      <th>negative_sentiment</th>\n",
       "      <th>neutral_sentiment</th>\n",
       "      <th>positive_sentiment</th>\n",
       "    </tr>\n",
       "    <tr>\n",
       "      <th>email_type</th>\n",
       "      <th></th>\n",
       "      <th></th>\n",
       "      <th></th>\n",
       "    </tr>\n",
       "  </thead>\n",
       "  <tbody>\n",
       "    <tr>\n",
       "      <th>ham</th>\n",
       "      <td>0.061228</td>\n",
       "      <td>0.851845</td>\n",
       "      <td>0.086942</td>\n",
       "    </tr>\n",
       "    <tr>\n",
       "      <th>spam</th>\n",
       "      <td>0.047228</td>\n",
       "      <td>0.804583</td>\n",
       "      <td>0.143799</td>\n",
       "    </tr>\n",
       "  </tbody>\n",
       "</table>\n",
       "</div>"
      ],
      "text/plain": [
       "            negative_sentiment  neutral_sentiment  positive_sentiment\n",
       "email_type                                                           \n",
       "ham                   0.061228           0.851845            0.086942\n",
       "spam                  0.047228           0.804583            0.143799"
      ]
     },
     "execution_count": 193,
     "metadata": {},
     "output_type": "execute_result"
    }
   ],
   "source": [
    "mean_sentiment"
   ]
  },
  {
   "cell_type": "code",
   "execution_count": 212,
   "id": "0459583e",
   "metadata": {
    "ExecuteTime": {
     "end_time": "2023-06-03T15:49:58.293701Z",
     "start_time": "2023-06-03T15:49:58.282609Z"
    },
    "scrolled": false
   },
   "outputs": [],
   "source": [
    "# Word cloud\n",
    "\n",
    "from wordcloud import WordCloud, STOPWORDS\n",
    "from PIL import Image\n",
    "\n",
    "text = ''.join(df_tr2['email_content'])"
   ]
  },
  {
   "cell_type": "code",
   "execution_count": 213,
   "id": "b78c0059",
   "metadata": {
    "ExecuteTime": {
     "end_time": "2023-06-03T15:50:03.764579Z",
     "start_time": "2023-06-03T15:50:03.761918Z"
    }
   },
   "outputs": [],
   "source": [
    "# from nltk.tokenize import word_tokenize\n",
    "\n",
    "# tokens = word_tokenize(df_tr2['email_content'], language='english')\n",
    "# tokens"
   ]
  },
  {
   "cell_type": "markdown",
   "id": "f0c0789d",
   "metadata": {},
   "source": [
    "# Treinando modelos"
   ]
  },
  {
   "cell_type": "code",
   "execution_count": 214,
   "id": "7474986f",
   "metadata": {
    "ExecuteTime": {
     "end_time": "2023-06-03T15:50:21.637821Z",
     "start_time": "2023-06-03T15:50:21.625619Z"
    }
   },
   "outputs": [],
   "source": [
    "# Train test split\n",
    "\n",
    "X = df_tr2['email_content']\n",
    "y = df_tr2['email_type']\n",
    "\n",
    "X_train, X_test, y_train, y_test = train_test_split(X, y, test_size=0.2, stratify=y, random_state=42)"
   ]
  },
  {
   "cell_type": "code",
   "execution_count": 225,
   "id": "b9291479",
   "metadata": {
    "ExecuteTime": {
     "end_time": "2023-06-03T16:02:04.665763Z",
     "start_time": "2023-06-03T16:01:45.418050Z"
    },
    "scrolled": true
   },
   "outputs": [
    {
     "name": "stderr",
     "output_type": "stream",
     "text": [
      "[Parallel(n_jobs=1)]: Using backend SequentialBackend with 1 concurrent workers.\n",
      "[Parallel(n_jobs=1)]: Done   5 out of   5 | elapsed:   15.6s finished\n"
     ]
    }
   ],
   "source": [
    "from sklearn.model_selection import cross_val_score\n",
    "from sklearn.pipeline import Pipeline\n",
    "from nltk.corpus import stopwords\n",
    "stop_words = stopwords.words('english')\n",
    "\n",
    "# Testar wordtovec\n",
    "tfidf = TfidfVectorizer(stop_words=stop_words)\n",
    "forest_clf = RandomForestClassifier(n_estimators=200, class_weight='balanced', random_state=42)\n",
    "\n",
    "pipeline = Pipeline([('vectorizer', tfidf), \n",
    "                     ('model', forest_clf)])\n",
    "\n",
    "pipeline.fit(X_train, y_train)\n",
    "\n",
    "cv = cross_val_score(pipeline, X_train, y_train, scoring='accuracy', cv=5, verbose=1)"
   ]
  },
  {
   "cell_type": "code",
   "execution_count": 230,
   "id": "adc2d1a5",
   "metadata": {
    "ExecuteTime": {
     "end_time": "2023-06-03T16:13:37.112037Z",
     "start_time": "2023-06-03T16:13:37.106862Z"
    }
   },
   "outputs": [
    {
     "data": {
      "text/plain": [
       "0.9755041764733029"
      ]
     },
     "execution_count": 230,
     "metadata": {},
     "output_type": "execute_result"
    }
   ],
   "source": [
    "cv.mean()"
   ]
  },
  {
   "cell_type": "code",
   "execution_count": null,
   "id": "301b8f92",
   "metadata": {},
   "outputs": [],
   "source": [
    "# Adicionar outros modelos"
   ]
  },
  {
   "cell_type": "markdown",
   "id": "371e5611",
   "metadata": {},
   "source": [
    "# Deep Learning"
   ]
  },
  {
   "cell_type": "code",
   "execution_count": null,
   "id": "defc4bc6",
   "metadata": {},
   "outputs": [],
   "source": [
    "from sklearn.preprocessing import LabelEncoder\n",
    "from sklearn.feature_extraction.text import CountVectorizer\n",
    "from keras.models import Sequential\n",
    "from keras.layers import Dense, Dropout"
   ]
  },
  {
   "cell_type": "code",
   "execution_count": null,
   "id": "f07f4787",
   "metadata": {},
   "outputs": [],
   "source": []
  },
  {
   "cell_type": "code",
   "execution_count": null,
   "id": "27021d18",
   "metadata": {},
   "outputs": [],
   "source": []
  },
  {
   "cell_type": "code",
   "execution_count": null,
   "id": "bbed4769",
   "metadata": {},
   "outputs": [],
   "source": []
  },
  {
   "cell_type": "markdown",
   "id": "28e0dd75",
   "metadata": {},
   "source": [
    "# Avaliação final"
   ]
  },
  {
   "cell_type": "code",
   "execution_count": 226,
   "id": "bf332737",
   "metadata": {
    "ExecuteTime": {
     "end_time": "2023-06-03T16:02:09.899250Z",
     "start_time": "2023-06-03T16:02:09.809254Z"
    }
   },
   "outputs": [],
   "source": [
    "X_test_tr = pipeline.named_steps['vectorizer'].transform(X_test)"
   ]
  },
  {
   "cell_type": "code",
   "execution_count": 229,
   "id": "94fd10f4",
   "metadata": {
    "ExecuteTime": {
     "end_time": "2023-06-03T16:02:58.749129Z",
     "start_time": "2023-06-03T16:02:58.618422Z"
    },
    "scrolled": true
   },
   "outputs": [
    {
     "name": "stdout",
     "output_type": "stream",
     "text": [
      "              precision    recall  f1-score   support\n",
      "\n",
      "         ham       0.98      1.00      0.99       492\n",
      "        spam       0.99      0.88      0.93        90\n",
      "\n",
      "    accuracy                           0.98       582\n",
      "   macro avg       0.98      0.94      0.96       582\n",
      "weighted avg       0.98      0.98      0.98       582\n",
      "\n"
     ]
    }
   ],
   "source": [
    "# Avaliando\n",
    "\n",
    "y_pred = pipeline.named_steps['model'].predict(X_test_tr)\n",
    "\n",
    "# Verificando acurácia\n",
    "\n",
    "print(classification_report(y_test, y_pred))"
   ]
  },
  {
   "cell_type": "code",
   "execution_count": null,
   "id": "ef08788f",
   "metadata": {},
   "outputs": [],
   "source": [
    "# Add email type\n",
    "# Balanceamento"
   ]
  }
 ],
 "metadata": {
  "kernelspec": {
   "display_name": "Python 3",
   "language": "python",
   "name": "python3"
  },
  "language_info": {
   "codemirror_mode": {
    "name": "ipython",
    "version": 3
   },
   "file_extension": ".py",
   "mimetype": "text/x-python",
   "name": "python",
   "nbconvert_exporter": "python",
   "pygments_lexer": "ipython3",
   "version": "3.8.10"
  },
  "varInspector": {
   "cols": {
    "lenName": 16,
    "lenType": 16,
    "lenVar": 40
   },
   "kernels_config": {
    "python": {
     "delete_cmd_postfix": "",
     "delete_cmd_prefix": "del ",
     "library": "var_list.py",
     "varRefreshCmd": "print(var_dic_list())"
    },
    "r": {
     "delete_cmd_postfix": ") ",
     "delete_cmd_prefix": "rm(",
     "library": "var_list.r",
     "varRefreshCmd": "cat(var_dic_list()) "
    }
   },
   "types_to_exclude": [
    "module",
    "function",
    "builtin_function_or_method",
    "instance",
    "_Feature"
   ],
   "window_display": false
  }
 },
 "nbformat": 4,
 "nbformat_minor": 5
}
